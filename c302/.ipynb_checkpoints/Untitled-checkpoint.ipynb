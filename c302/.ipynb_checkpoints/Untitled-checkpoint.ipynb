{
 "cells": [
  {
   "cell_type": "code",
   "execution_count": 9,
   "metadata": {},
   "outputs": [
    {
     "name": "stdout",
     "output_type": "stream",
     "text": [
      "[0 2 1]\n",
      "[1 2 3 4]\n",
      "[[ 1  2  3  4]\n",
      " [ 7  8  9 10]\n",
      " [ 4  5  6  7]]\n"
     ]
    }
   ],
   "source": [
    "import numpy as np\n",
    "A = np.array([[1,2,3,4],[4,5,6,7],[7,8,9,10]])\n",
    "index = ['A','C','B']\n",
    "order = np.argsort(index)\n",
    "print(order)\n",
    "print(A[0])\n",
    "\n",
    "A_ordered = A[0]\n",
    "for i in order:\n",
    "    A_ordered = np.vstack((A_ordered,A[i]))\n",
    "A_ordered = np.delete(A_ordered, 0, 0)\n",
    "#array = np.delete(array, 0, 1) #delete first column (time)\n",
    "\n",
    "\n",
    "print(A_ordered)"
   ]
  },
  {
   "cell_type": "code",
   "execution_count": 19,
   "metadata": {},
   "outputs": [
    {
     "name": "stdout",
     "output_type": "stream",
     "text": [
      "[3, 4]\n",
      "2\n"
     ]
    }
   ],
   "source": [
    "cell = 'AB34'\n",
    "num = [int(char) for char in cell if char.isdigit()]\n",
    "print(num)\n",
    "print(len(num))"
   ]
  },
  {
   "cell_type": "code",
   "execution_count": 37,
   "metadata": {},
   "outputs": [
    {
     "name": "stdout",
     "output_type": "stream",
     "text": [
      "['AVA', 'DA02', 'DA10', 'DB01']\n",
      "[[1 5 3 2 4]\n",
      " [2 6 4 3 5]\n",
      " [3 7 5 4 6]\n",
      " [4 8 6 5 7]]\n",
      "[[1 0 8 7 9]\n",
      " [2 6 4 3 5]\n",
      " [3 7 5 4 6]\n",
      " [4 8 6 5 7]]\n"
     ]
    }
   ],
   "source": [
    "cells = ['DA10', 'DA2', 'DB1', 'AVA']\n",
    "H_1 = np.transpose(np.array([[1,2,3,4],\n",
    "                [2,3,4,5],\n",
    "                [3,4,5,6],\n",
    "                [4,5,6,7],\n",
    "                [5,6,7,8]]))\n",
    "H_2 = np.transpose(np.array([[1,2,3,4],\n",
    "                [7,3,4,5],\n",
    "                [8,4,5,6],\n",
    "                [9,5,6,7],\n",
    "                [0,6,7,8]]))\n",
    "\n",
    "cells, H_1, H_2 = change_cell_names(cells,H_1,H_2)\n",
    "print(cells)\n",
    "print(H_1)\n",
    "print(H_2)\n"
   ]
  },
  {
   "cell_type": "code",
   "execution_count": 17,
   "metadata": {},
   "outputs": [
    {
     "name": "stdout",
     "output_type": "stream",
     "text": [
      "DA09\n"
     ]
    }
   ],
   "source": [
    "cell = 'DA9'\n",
    "print(cell[:-1] + '0' + cell[-1:])"
   ]
  },
  {
   "cell_type": "code",
   "execution_count": 36,
   "metadata": {},
   "outputs": [],
   "source": [
    "def change_cell_names(cells, data_1, data_2):\n",
    "    #This function changes the names of cells like DA9 to DA09\n",
    "    #Also, it sorts again the names so that DA09 is bejore DA10\n",
    "    #Last, it rearranges also the data from the data files so that it moves when the cells are sorted. \n",
    "    \n",
    "    # Change the names of the cells - DA9 to DA09 ... \n",
    "    modified_cells = []\n",
    "    for cell in cells:\n",
    "        num = [int(char) for char in cell if char.isdigit()]\n",
    "        if len(num) == 1:\n",
    "            modified_cells.append(cell[:-1] + '0' + cell[-1:])\n",
    "        else:\n",
    "            modified_cells.append(cell)\n",
    "    cells = modified_cells\n",
    "    #print(cells)\n",
    "    \n",
    "    #Order the data, together with the cells in alphabetical and numerical order\n",
    "    order = np.argsort(cells)\n",
    "    cells.sort()\n",
    "\n",
    "    data_t = np.transpose(data_1)\n",
    "    data_t_ordered = data_t[0]\n",
    "    for i in order:\n",
    "        data_t_ordered = np.vstack((data_t_ordered,data_t[i+1]))\n",
    "    data_1 = np.transpose(data_t_ordered)\n",
    "    \n",
    "    data_t = np.transpose(data_2)\n",
    "    data_t_ordered = data_t[0]\n",
    "    for i in order:\n",
    "        data_t_ordered = np.vstack((data_t_ordered,data_t[i+1]))\n",
    "    data_2 = np.transpose(data_t_ordered)\n",
    "    \n",
    "    return cells, data_1, data_2"
   ]
  },
  {
   "cell_type": "code",
   "execution_count": 52,
   "metadata": {},
   "outputs": [
    {
     "name": "stdout",
     "output_type": "stream",
     "text": [
      "['DA01', 'DA02', 'DA03', 'DA04', 'DA05', 'DA06', 'DA07', 'DA08', 'DA09', 'DA10', 'DA11', 'DA12', 'DA13', 'DA14', 'DA15']\n"
     ]
    }
   ],
   "source": [
    "range_incl = lambda start, end:range(start, end + 1)\n",
    "\n",
    "\n",
    "first_cells = [\"DA{:02d}\".format(c) for c in range_incl(1, 15)]\n",
    "\n",
    "\n",
    "print(first_cells)"
   ]
  },
  {
   "cell_type": "code",
   "execution_count": 62,
   "metadata": {},
   "outputs": [
    {
     "ename": "TypeError",
     "evalue": "object of type 'int' has no len()",
     "output_type": "error",
     "traceback": [
      "\u001b[0;31m---------------------------------------------------------------------------\u001b[0m",
      "\u001b[0;31mTypeError\u001b[0m                                 Traceback (most recent call last)",
      "\u001b[0;32m<ipython-input-62-6b71d36435a2>\u001b[0m in \u001b[0;36m<module>\u001b[0;34m\u001b[0m\n\u001b[1;32m     15\u001b[0m \u001b[0;34m\u001b[0m\u001b[0m\n\u001b[1;32m     16\u001b[0m colors = np.array[\n\u001b[0;32m---> 17\u001b[0;31m     \u001b[0;34m[\u001b[0m\u001b[0mplt\u001b[0m\u001b[0;34m.\u001b[0m\u001b[0mcm\u001b[0m\u001b[0;34m.\u001b[0m\u001b[0mRdPu\u001b[0m\u001b[0;34m(\u001b[0m\u001b[0mi\u001b[0m\u001b[0;34m)\u001b[0m \u001b[0;32mfor\u001b[0m \u001b[0mi\u001b[0m \u001b[0;32min\u001b[0m \u001b[0mnp\u001b[0m\u001b[0;34m.\u001b[0m\u001b[0mlinspace\u001b[0m\u001b[0;34m(\u001b[0m\u001b[0;36m0.2\u001b[0m\u001b[0;34m,\u001b[0m \u001b[0;36m0.6\u001b[0m\u001b[0;34m,\u001b[0m \u001b[0mlen\u001b[0m\u001b[0;34m(\u001b[0m\u001b[0;36m10\u001b[0m\u001b[0;34m)\u001b[0m\u001b[0;34m)\u001b[0m\u001b[0;34m]\u001b[0m\u001b[0;34m,\u001b[0m \u001b[0;31m#AS\u001b[0m\u001b[0;34m\u001b[0m\u001b[0;34m\u001b[0m\u001b[0m\n\u001b[0m\u001b[1;32m     18\u001b[0m     \u001b[0;34m[\u001b[0m\u001b[0mplt\u001b[0m\u001b[0;34m.\u001b[0m\u001b[0mcm\u001b[0m\u001b[0;34m.\u001b[0m\u001b[0mYlOrRd\u001b[0m\u001b[0;34m(\u001b[0m\u001b[0mi\u001b[0m\u001b[0;34m)\u001b[0m \u001b[0;32mfor\u001b[0m \u001b[0mi\u001b[0m \u001b[0;32min\u001b[0m \u001b[0mnp\u001b[0m\u001b[0;34m.\u001b[0m\u001b[0mlinspace\u001b[0m\u001b[0;34m(\u001b[0m\u001b[0;36m0.2\u001b[0m\u001b[0;34m,\u001b[0m \u001b[0;36m0.5\u001b[0m\u001b[0;34m,\u001b[0m \u001b[0mlen\u001b[0m\u001b[0;34m(\u001b[0m\u001b[0;36m10\u001b[0m\u001b[0;34m)\u001b[0m\u001b[0;34m)\u001b[0m\u001b[0;34m]\u001b[0m\u001b[0;34m,\u001b[0m \u001b[0;31m#DA\u001b[0m\u001b[0;34m\u001b[0m\u001b[0;34m\u001b[0m\u001b[0m\n\u001b[1;32m     19\u001b[0m     \u001b[0;34m[\u001b[0m\u001b[0mplt\u001b[0m\u001b[0;34m.\u001b[0m\u001b[0mcm\u001b[0m\u001b[0;34m.\u001b[0m\u001b[0mBuGn\u001b[0m\u001b[0;34m(\u001b[0m\u001b[0mi\u001b[0m\u001b[0;34m)\u001b[0m \u001b[0;32mfor\u001b[0m \u001b[0mi\u001b[0m \u001b[0;32min\u001b[0m \u001b[0mnp\u001b[0m\u001b[0;34m.\u001b[0m\u001b[0mlinspace\u001b[0m\u001b[0;34m(\u001b[0m\u001b[0;36m0.6\u001b[0m\u001b[0;34m,\u001b[0m \u001b[0;36m0.2\u001b[0m\u001b[0;34m,\u001b[0m \u001b[0mlen\u001b[0m\u001b[0;34m(\u001b[0m\u001b[0;36m10\u001b[0m\u001b[0;34m)\u001b[0m\u001b[0;34m)\u001b[0m\u001b[0;34m]\u001b[0m\u001b[0;34m,\u001b[0m \u001b[0;31m#DB\u001b[0m\u001b[0;34m\u001b[0m\u001b[0;34m\u001b[0m\u001b[0m\n",
      "\u001b[0;31mTypeError\u001b[0m: object of type 'int' has no len()"
     ]
    },
    {
     "data": {
      "image/png": "[encoded data removed]",
      "text/plain": [
       "<Figure size 864x864 with 6 Axes>"
      ]
     },
     "metadata": {
      "needs_background": "light"
     },
     "output_type": "display_data"
    }
   ],
   "source": [
    "import matplotlib.pyplot as plt\n",
    "fig = plt.figure(figsize=(12, 12)) #width and heigth\n",
    "\n",
    "\n",
    "ax = [fig.add_subplot(num) for num in range(711,717)]\n",
    "\n",
    " \n",
    "#time = data[0].tolist()\n",
    "\n",
    "#Colorsets: \n",
    "    #DB - [BuGn (0.6, 0.2)]     VB - [YlGn (0.8, 0.4)]\n",
    "    #DA - [YlOrRd (0.2, 0.5)]     VA -  [Oranges(0.4, 1)]\n",
    "    #DD - [PuBu (0.2, 0.6)]     VD - [Blues (0.1, 0.5)]\n",
    "    #AS - [RdPu (0.2, 0.6)]\n",
    "\n",
    "colors = np.array[\n",
    "    [plt.cm.RdPu(i) for i in np.linspace(0.2, 0.6, 10)], #AS\n",
    "    [plt.cm.YlOrRd(i) for i in np.linspace(0.2, 0.5, 10)], #DA\n",
    "    [plt.cm.BuGn(i) for i in np.linspace(0.6, 0.2, 10)], #DB\n",
    "    [plt.cm.PuBu(i) for i in np.linspace(0.2, 0.6, 10)], #DD\n",
    "    [plt.cm.Blues(i) for i in np.linspace(0.1, 0.5, 10)], #VD\n",
    "    [plt.cm.YlGn(i) for i in np.linspace(0.8, 0.4, 10)], #VB\n",
    "    [plt.cm.Oranges(i) for i in np.linspace(0.4, 1, 10)], #VA\n",
    "]\n",
    "\n",
    "'''\n",
    "colors = [plt.cm.YlOrRd(i) for i in np.linspace(0.2, 0.5, len(first_index))] #YlGn\n",
    "#colors = ['#a0dacb', '#27613e']\n",
    "ax1.set_prop_cycle(cycler('color', colors))\n",
    "for i in first_index:\n",
    "    value = data[i+1].tolist()\n",
    "    cell = labels[i]\n",
    "    ax1.plot(time, value, label = cell)\n",
    "\n",
    "#CODE TO SET LEGEND TO THE RIGHT OUTSIDE\n",
    "# Shrink current axis by 20%\n",
    "box = ax1.get_position()\n",
    "ax1.set_position([box.x0, box.y0, box.width * 0.8, box.height])\n",
    "'''"
   ]
  },
  {
   "cell_type": "code",
   "execution_count": null,
   "metadata": {},
   "outputs": [],
   "source": []
  }
 ],
 "metadata": {
  "kernelspec": {
   "display_name": "Python 3",
   "language": "python",
   "name": "python3"
  },
  "language_info": {
   "codemirror_mode": {
    "name": "ipython",
    "version": 3
   },
   "file_extension": ".py",
   "mimetype": "text/x-python",
   "name": "python",
   "nbconvert_exporter": "python",
   "pygments_lexer": "ipython3",
   "version": "3.7.6"
  }
 },
 "nbformat": 4,
 "nbformat_minor": 2
}
